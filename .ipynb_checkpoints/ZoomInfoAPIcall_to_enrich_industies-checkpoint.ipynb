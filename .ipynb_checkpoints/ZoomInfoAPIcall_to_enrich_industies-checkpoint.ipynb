{
 "cells": [
  {
   "cell_type": "code",
   "execution_count": 1,
   "metadata": {},
   "outputs": [],
   "source": [
    "import pandas as pd\n",
    "# improt company data with domains\n",
    "df = pd.read_csv('data/data.csv')"
   ]
  },
  {
   "cell_type": "code",
   "execution_count": 2,
   "metadata": {},
   "outputs": [
    {
     "data": {
      "text/html": [
       "<div>\n",
       "<style scoped>\n",
       "    .dataframe tbody tr th:only-of-type {\n",
       "        vertical-align: middle;\n",
       "    }\n",
       "\n",
       "    .dataframe tbody tr th {\n",
       "        vertical-align: top;\n",
       "    }\n",
       "\n",
       "    .dataframe thead th {\n",
       "        text-align: right;\n",
       "    }\n",
       "</style>\n",
       "<table border=\"1\" class=\"dataframe\">\n",
       "  <thead>\n",
       "    <tr style=\"text-align: right;\">\n",
       "      <th></th>\n",
       "      <th>Company</th>\n",
       "      <th>domain</th>\n",
       "      <th>industry</th>\n",
       "    </tr>\n",
       "  </thead>\n",
       "  <tbody>\n",
       "    <tr>\n",
       "      <th>0</th>\n",
       "      <td>AAFCPAs</td>\n",
       "      <td>aafcpa.com</td>\n",
       "      <td>Accounting</td>\n",
       "    </tr>\n",
       "    <tr>\n",
       "      <th>1</th>\n",
       "      <td>Trans World Airlines</td>\n",
       "      <td>7online.com</td>\n",
       "      <td>Airlines/Aviation</td>\n",
       "    </tr>\n",
       "    <tr>\n",
       "      <th>2</th>\n",
       "      <td>2 Step Divorces</td>\n",
       "      <td>2StepDivorces.com</td>\n",
       "      <td>Alternative Dispute Resolution</td>\n",
       "    </tr>\n",
       "    <tr>\n",
       "      <th>3</th>\n",
       "      <td>3D Cannabis Center</td>\n",
       "      <td>3DMMC.com</td>\n",
       "      <td>Alternative Medicine</td>\n",
       "    </tr>\n",
       "    <tr>\n",
       "      <th>4</th>\n",
       "      <td>10 Forward Productions</td>\n",
       "      <td>10forwardproductions.com</td>\n",
       "      <td>Animation</td>\n",
       "    </tr>\n",
       "    <tr>\n",
       "      <th>5</th>\n",
       "      <td>47 Brand</td>\n",
       "      <td>47brand.com</td>\n",
       "      <td>Apparel &amp; Fashion</td>\n",
       "    </tr>\n",
       "    <tr>\n",
       "      <th>6</th>\n",
       "      <td>4240 Architecture</td>\n",
       "      <td>4240architecture.com</td>\n",
       "      <td>Architecture &amp; Planning</td>\n",
       "    </tr>\n",
       "    <tr>\n",
       "      <th>7</th>\n",
       "      <td>Carina Picture Frame Inc</td>\n",
       "      <td>123frame.net</td>\n",
       "      <td>Arts and Crafts</td>\n",
       "    </tr>\n",
       "    <tr>\n",
       "      <th>8</th>\n",
       "      <td>1-800 Radiator &amp; A/C</td>\n",
       "      <td>1800radiator.com</td>\n",
       "      <td>Automotive</td>\n",
       "    </tr>\n",
       "    <tr>\n",
       "      <th>9</th>\n",
       "      <td>Idaho Air National Guard</td>\n",
       "      <td>124wg.ang.af.mil</td>\n",
       "      <td>Aviation &amp; Aerospace</td>\n",
       "    </tr>\n",
       "    <tr>\n",
       "      <th>10</th>\n",
       "      <td>FirstBank Puerto Rico</td>\n",
       "      <td>1firstbank.com</td>\n",
       "      <td>Banking</td>\n",
       "    </tr>\n",
       "    <tr>\n",
       "      <th>11</th>\n",
       "      <td>23andMe</td>\n",
       "      <td>23andme.com</td>\n",
       "      <td>Biotechnology</td>\n",
       "    </tr>\n",
       "    <tr>\n",
       "      <th>12</th>\n",
       "      <td>KGTV Channel 10</td>\n",
       "      <td>10news.com</td>\n",
       "      <td>Broadcast Media</td>\n",
       "    </tr>\n",
       "    <tr>\n",
       "      <th>13</th>\n",
       "      <td>31-W Insulation</td>\n",
       "      <td>31w.com</td>\n",
       "      <td>Building Materials</td>\n",
       "    </tr>\n",
       "  </tbody>\n",
       "</table>\n",
       "</div>"
      ],
      "text/plain": [
       "                     Company                    domain  \\\n",
       "0                    AAFCPAs                aafcpa.com   \n",
       "1       Trans World Airlines               7online.com   \n",
       "2            2 Step Divorces         2StepDivorces.com   \n",
       "3         3D Cannabis Center                 3DMMC.com   \n",
       "4     10 Forward Productions  10forwardproductions.com   \n",
       "5                   47 Brand               47brand.com   \n",
       "6          4240 Architecture      4240architecture.com   \n",
       "7   Carina Picture Frame Inc              123frame.net   \n",
       "8       1-800 Radiator & A/C          1800radiator.com   \n",
       "9   Idaho Air National Guard          124wg.ang.af.mil   \n",
       "10     FirstBank Puerto Rico            1firstbank.com   \n",
       "11                   23andMe               23andme.com   \n",
       "12           KGTV Channel 10                10news.com   \n",
       "13           31-W Insulation                   31w.com   \n",
       "\n",
       "                          industry  \n",
       "0                       Accounting  \n",
       "1                Airlines/Aviation  \n",
       "2   Alternative Dispute Resolution  \n",
       "3             Alternative Medicine  \n",
       "4                        Animation  \n",
       "5                Apparel & Fashion  \n",
       "6          Architecture & Planning  \n",
       "7                  Arts and Crafts  \n",
       "8                       Automotive  \n",
       "9             Aviation & Aerospace  \n",
       "10                         Banking  \n",
       "11                   Biotechnology  \n",
       "12                 Broadcast Media  \n",
       "13              Building Materials  "
      ]
     },
     "execution_count": 2,
     "metadata": {},
     "output_type": "execute_result"
    }
   ],
   "source": [
    "df"
   ]
  },
  {
   "cell_type": "code",
   "execution_count": null,
   "metadata": {},
   "outputs": [],
   "source": [
    "#Enrich the list of domains from the sample dataset with industies from ZoomInfo\n",
    "\n",
    "#Generate access token (valid for 1 hour)\n",
    "\n",
    "#import libraries and declare a dictionary with ZI-specific fields\n",
    "#run 'pip install PyJWT' before importing, use the right kernel or call \n",
    "#!pip install PyJWT\n",
    "\n",
    "import jwt\n",
    "from datetime import datetime, date, time, timedelta\n",
    "import uuid\n",
    "\n",
    "pc ='YourPartnerCode'\n",
    "zipayload = {\n",
    "'ziPartnerCode':pc\n",
    " }"
   ]
  },
  {
   "cell_type": "code",
   "execution_count": null,
   "metadata": {},
   "outputs": [],
   "source": [
    "#set the creation date and the expiration date (up to 1 hour)\n",
    "\n",
    "utc0 = datetime(1970,1,1)\n",
    "issueTime = datetime.utcnow()\n",
    "iat = issueTime - utc0\n",
    "iat = int(iat.total_seconds())\n",
    "exp = issueTime - utc0\n",
    "exp = exp + timedelta(minutes=60)\n",
    "exp = int(exp.total_seconds())"
   ]
  },
  {
   "cell_type": "code",
   "execution_count": null,
   "metadata": {},
   "outputs": [],
   "source": [
    "#create a dictionary with the required payload information\n",
    "\n",
    "payload = {\n",
    " 'iss':'zoominfo',\\\n",
    " 'iat': iat,\\\n",
    " 'jti': str(uuid.uuid4()),\\\n",
    " 'ziPayLoad':zipayload,\\\n",
    " 'exp': exp\n",
    " }"
   ]
  },
  {
   "cell_type": "code",
   "execution_count": null,
   "metadata": {},
   "outputs": [],
   "source": [
    "#encode the data and generate the JWT (encoded will have the value of JWT)\n",
    "\n",
    "password = 'yourpassword' #password\n",
    "headers={'Accept': 'application/xml', 'Content-type': 'application/xml'}\n",
    "encoded = jwt.encode(payload, password, algorithm='HS256', headers = headers)\n"
   ]
  },
  {
   "cell_type": "code",
   "execution_count": null,
   "metadata": {},
   "outputs": [],
   "source": [
    "#convert from bytes to string\n",
    "encoded_str = encoded.decode()"
   ]
  },
  {
   "cell_type": "code",
   "execution_count": null,
   "metadata": {},
   "outputs": [],
   "source": [
    "encoded_str"
   ]
  },
  {
   "cell_type": "code",
   "execution_count": null,
   "metadata": {},
   "outputs": [],
   "source": [
    "#Make a post request to ZI API to get the access token, based on the JWT\n",
    "#Run 'pip3 install httplib2' in your terminal window before importing\n",
    "import httplib2\n",
    "import urllib\n",
    "\n",
    "http = httplib2.Http()\n",
    "\n",
    "\n",
    "body = '<?xml version=\"1.0\" encoding=\"utf-8\"?><TokenPostInput xmlns=\"http://partnerapi.zoominfo.com/partnerapistatic/xsd/V1/TokenPostInput.xsd\"><pc>YourKey</pc><ziToken>YourToken</ziToken></TokenPostInput>'\n",
    "\n",
    "\n",
    "url = \"https://partnerapi.zoominfo.com/partnerapi/v2/token\"\n",
    "\n",
    "response, content = http.request(url, method = \"POST\", body = body, headers = headers)\n",
    "\n",
    "print(content.decode())\n",
    "print('Status: ' + response['status'])\n",
    "\n"
   ]
  },
  {
   "cell_type": "code",
   "execution_count": null,
   "metadata": {},
   "outputs": [],
   "source": [
    "#create CompanyDetail search request\n",
    "import requests\n",
    "\n",
    "domains = df['domain'].iloc[37000:38000]\n",
    "domains = domains.tolist()\n",
    "urls = []\n",
    "\n",
    "#add www to the domain names\n",
    "for domain in domains:\n",
    "    urls.append(('www.%s') % (domain))\n",
    "    \n",
    "len(domains)"
   ]
  },
  {
   "cell_type": "code",
   "execution_count": null,
   "metadata": {},
   "outputs": [],
   "source": [
    "enriched_domains = {}\n",
    "try: \n",
    "    for url in urls:\n",
    "        x = (\"https://partnerapi.zoominfo.com/partnerapi/v4/company/detail?pc=YourPartnerCode&key=YourKey&CompanyDomain=%s&outputType=json&outputFieldOptions=companyTopLevelIndustry\") % (url)\n",
    "        call = requests.get(x)\n",
    "        json_data = call.json()  \n",
    "        extract = json_data['companyDetailResponse']\n",
    "        enriched_domains[url] = extract\n",
    "except ConnectionResetError:\n",
    "    print('Handle Exception')\n",
    "\n",
    "\n"
   ]
  },
  {
   "cell_type": "code",
   "execution_count": null,
   "metadata": {},
   "outputs": [],
   "source": [
    "type(enriched_domains)"
   ]
  },
  {
   "cell_type": "code",
   "execution_count": null,
   "metadata": {},
   "outputs": [],
   "source": [
    "print(enriched_domains)"
   ]
  },
  {
   "cell_type": "code",
   "execution_count": null,
   "metadata": {},
   "outputs": [],
   "source": []
  },
  {
   "cell_type": "code",
   "execution_count": null,
   "metadata": {
    "scrolled": true
   },
   "outputs": [],
   "source": [
    "#convert dataframe to a list and remove column headers\n",
    "dict2ls = pd.DataFrame(enriched_domains)\n",
    "\n",
    "dict2ls = dict2ls.transpose()\n",
    "dict2ls.to_csv('data/enriched/enriched_ZI_domains.csv', sep = ',')"
   ]
  },
  {
   "cell_type": "code",
   "execution_count": null,
   "metadata": {},
   "outputs": [],
   "source": []
  }
 ],
 "metadata": {
  "anaconda-cloud": {},
  "kernelspec": {
   "display_name": "Python 3",
   "language": "python",
   "name": "python3"
  },
  "language_info": {
   "codemirror_mode": {
    "name": "ipython",
    "version": 3
   },
   "file_extension": ".py",
   "mimetype": "text/x-python",
   "name": "python",
   "nbconvert_exporter": "python",
   "pygments_lexer": "ipython3",
   "version": "3.7.1"
  }
 },
 "nbformat": 4,
 "nbformat_minor": 1
}
